{
 "cells": [
  {
   "cell_type": "markdown",
   "id": "def12df4",
   "metadata": {},
   "source": [
    "### Import setup"
   ]
  },
  {
   "cell_type": "code",
   "execution_count": 17,
   "id": "07de38dd",
   "metadata": {},
   "outputs": [],
   "source": [
    "import numpy as np\n",
    "import pandas as pd\n",
    "from sklearn.model_selection import train_test_split\n",
    "from sklearn.metrics import r2_score\n",
    "from sklearn.linear_model import LinearRegression"
   ]
  },
  {
   "cell_type": "markdown",
   "id": "17c125a2",
   "metadata": {},
   "source": [
    "### Loading in the data"
   ]
  },
  {
   "cell_type": "code",
   "execution_count": 4,
   "id": "40e2d02c",
   "metadata": {},
   "outputs": [],
   "source": [
    "housing_df = pd.read_csv('WestRoxbury.csv')"
   ]
  },
  {
   "cell_type": "markdown",
   "id": "26efdd34",
   "metadata": {},
   "source": [
    "### Cleaning up column names"
   ]
  },
  {
   "cell_type": "code",
   "execution_count": 9,
   "id": "0c92fa1c",
   "metadata": {},
   "outputs": [],
   "source": [
    "housing_df.columns = [column.strip().replace(' ', '_') for column in housing_df.columns]"
   ]
  },
  {
   "cell_type": "code",
   "execution_count": 15,
   "id": "3f83a1cc",
   "metadata": {},
   "outputs": [
    {
     "data": {
      "text/html": [
       "<div>\n",
       "<style scoped>\n",
       "    .dataframe tbody tr th:only-of-type {\n",
       "        vertical-align: middle;\n",
       "    }\n",
       "\n",
       "    .dataframe tbody tr th {\n",
       "        vertical-align: top;\n",
       "    }\n",
       "\n",
       "    .dataframe thead th {\n",
       "        text-align: right;\n",
       "    }\n",
       "</style>\n",
       "<table border=\"1\" class=\"dataframe\">\n",
       "  <thead>\n",
       "    <tr style=\"text-align: right;\">\n",
       "      <th></th>\n",
       "      <th>TOTAL_VALUE</th>\n",
       "      <th>TAX</th>\n",
       "      <th>LOT_SQFT</th>\n",
       "      <th>YR_BUILT</th>\n",
       "      <th>GROSS_AREA</th>\n",
       "      <th>LIVING_AREA</th>\n",
       "      <th>FLOORS</th>\n",
       "      <th>ROOMS</th>\n",
       "      <th>BEDROOMS</th>\n",
       "      <th>FULL_BATH</th>\n",
       "      <th>HALF_BATH</th>\n",
       "      <th>KITCHEN</th>\n",
       "      <th>FIREPLACE</th>\n",
       "    </tr>\n",
       "  </thead>\n",
       "  <tbody>\n",
       "    <tr>\n",
       "      <th>count</th>\n",
       "      <td>5802.000000</td>\n",
       "      <td>5802.000000</td>\n",
       "      <td>5802.000000</td>\n",
       "      <td>5802.000000</td>\n",
       "      <td>5802.000000</td>\n",
       "      <td>5802.000000</td>\n",
       "      <td>5802.000000</td>\n",
       "      <td>5802.000000</td>\n",
       "      <td>5802.000000</td>\n",
       "      <td>5802.000000</td>\n",
       "      <td>5802.000000</td>\n",
       "      <td>5802.00000</td>\n",
       "      <td>5802.000000</td>\n",
       "    </tr>\n",
       "    <tr>\n",
       "      <th>mean</th>\n",
       "      <td>392.685715</td>\n",
       "      <td>4939.485867</td>\n",
       "      <td>6278.083764</td>\n",
       "      <td>1936.744916</td>\n",
       "      <td>2924.842123</td>\n",
       "      <td>1657.065322</td>\n",
       "      <td>1.683730</td>\n",
       "      <td>6.994829</td>\n",
       "      <td>3.230093</td>\n",
       "      <td>1.296794</td>\n",
       "      <td>0.613926</td>\n",
       "      <td>1.01534</td>\n",
       "      <td>0.739917</td>\n",
       "    </tr>\n",
       "    <tr>\n",
       "      <th>std</th>\n",
       "      <td>99.177414</td>\n",
       "      <td>1247.649118</td>\n",
       "      <td>2669.707974</td>\n",
       "      <td>35.989910</td>\n",
       "      <td>883.984726</td>\n",
       "      <td>540.456726</td>\n",
       "      <td>0.444884</td>\n",
       "      <td>1.437657</td>\n",
       "      <td>0.846607</td>\n",
       "      <td>0.522040</td>\n",
       "      <td>0.533839</td>\n",
       "      <td>0.12291</td>\n",
       "      <td>0.565108</td>\n",
       "    </tr>\n",
       "    <tr>\n",
       "      <th>min</th>\n",
       "      <td>105.000000</td>\n",
       "      <td>1320.000000</td>\n",
       "      <td>997.000000</td>\n",
       "      <td>0.000000</td>\n",
       "      <td>821.000000</td>\n",
       "      <td>504.000000</td>\n",
       "      <td>1.000000</td>\n",
       "      <td>3.000000</td>\n",
       "      <td>1.000000</td>\n",
       "      <td>1.000000</td>\n",
       "      <td>0.000000</td>\n",
       "      <td>1.00000</td>\n",
       "      <td>0.000000</td>\n",
       "    </tr>\n",
       "    <tr>\n",
       "      <th>25%</th>\n",
       "      <td>325.125000</td>\n",
       "      <td>4089.500000</td>\n",
       "      <td>4772.000000</td>\n",
       "      <td>1920.000000</td>\n",
       "      <td>2347.000000</td>\n",
       "      <td>1308.000000</td>\n",
       "      <td>1.000000</td>\n",
       "      <td>6.000000</td>\n",
       "      <td>3.000000</td>\n",
       "      <td>1.000000</td>\n",
       "      <td>0.000000</td>\n",
       "      <td>1.00000</td>\n",
       "      <td>0.000000</td>\n",
       "    </tr>\n",
       "    <tr>\n",
       "      <th>50%</th>\n",
       "      <td>375.900000</td>\n",
       "      <td>4728.000000</td>\n",
       "      <td>5683.000000</td>\n",
       "      <td>1935.000000</td>\n",
       "      <td>2700.000000</td>\n",
       "      <td>1548.500000</td>\n",
       "      <td>2.000000</td>\n",
       "      <td>7.000000</td>\n",
       "      <td>3.000000</td>\n",
       "      <td>1.000000</td>\n",
       "      <td>1.000000</td>\n",
       "      <td>1.00000</td>\n",
       "      <td>1.000000</td>\n",
       "    </tr>\n",
       "    <tr>\n",
       "      <th>75%</th>\n",
       "      <td>438.775000</td>\n",
       "      <td>5519.500000</td>\n",
       "      <td>7022.250000</td>\n",
       "      <td>1955.000000</td>\n",
       "      <td>3239.000000</td>\n",
       "      <td>1873.750000</td>\n",
       "      <td>2.000000</td>\n",
       "      <td>8.000000</td>\n",
       "      <td>4.000000</td>\n",
       "      <td>2.000000</td>\n",
       "      <td>1.000000</td>\n",
       "      <td>1.00000</td>\n",
       "      <td>1.000000</td>\n",
       "    </tr>\n",
       "    <tr>\n",
       "      <th>max</th>\n",
       "      <td>1217.800000</td>\n",
       "      <td>15319.000000</td>\n",
       "      <td>46411.000000</td>\n",
       "      <td>2011.000000</td>\n",
       "      <td>8154.000000</td>\n",
       "      <td>5289.000000</td>\n",
       "      <td>3.000000</td>\n",
       "      <td>14.000000</td>\n",
       "      <td>9.000000</td>\n",
       "      <td>5.000000</td>\n",
       "      <td>3.000000</td>\n",
       "      <td>2.00000</td>\n",
       "      <td>4.000000</td>\n",
       "    </tr>\n",
       "  </tbody>\n",
       "</table>\n",
       "</div>"
      ],
      "text/plain": [
       "       TOTAL_VALUE           TAX      LOT_SQFT     YR_BUILT   GROSS_AREA  \\\n",
       "count  5802.000000   5802.000000   5802.000000  5802.000000  5802.000000   \n",
       "mean    392.685715   4939.485867   6278.083764  1936.744916  2924.842123   \n",
       "std      99.177414   1247.649118   2669.707974    35.989910   883.984726   \n",
       "min     105.000000   1320.000000    997.000000     0.000000   821.000000   \n",
       "25%     325.125000   4089.500000   4772.000000  1920.000000  2347.000000   \n",
       "50%     375.900000   4728.000000   5683.000000  1935.000000  2700.000000   \n",
       "75%     438.775000   5519.500000   7022.250000  1955.000000  3239.000000   \n",
       "max    1217.800000  15319.000000  46411.000000  2011.000000  8154.000000   \n",
       "\n",
       "       LIVING_AREA       FLOORS        ROOMS     BEDROOMS    FULL_BATH  \\\n",
       "count  5802.000000  5802.000000  5802.000000  5802.000000  5802.000000   \n",
       "mean   1657.065322     1.683730     6.994829     3.230093     1.296794   \n",
       "std     540.456726     0.444884     1.437657     0.846607     0.522040   \n",
       "min     504.000000     1.000000     3.000000     1.000000     1.000000   \n",
       "25%    1308.000000     1.000000     6.000000     3.000000     1.000000   \n",
       "50%    1548.500000     2.000000     7.000000     3.000000     1.000000   \n",
       "75%    1873.750000     2.000000     8.000000     4.000000     2.000000   \n",
       "max    5289.000000     3.000000    14.000000     9.000000     5.000000   \n",
       "\n",
       "         HALF_BATH     KITCHEN    FIREPLACE  \n",
       "count  5802.000000  5802.00000  5802.000000  \n",
       "mean      0.613926     1.01534     0.739917  \n",
       "std       0.533839     0.12291     0.565108  \n",
       "min       0.000000     1.00000     0.000000  \n",
       "25%       0.000000     1.00000     0.000000  \n",
       "50%       1.000000     1.00000     1.000000  \n",
       "75%       1.000000     1.00000     1.000000  \n",
       "max       3.000000     2.00000     4.000000  "
      ]
     },
     "execution_count": 15,
     "metadata": {},
     "output_type": "execute_result"
    }
   ],
   "source": [
    "housing_df.describe()"
   ]
  },
  {
   "cell_type": "markdown",
   "id": "78dd0f55",
   "metadata": {},
   "source": [
    "### Oversampling Example"
   ]
  },
  {
   "cell_type": "code",
   "execution_count": 23,
   "id": "9a3046da",
   "metadata": {},
   "outputs": [
    {
     "data": {
      "text/html": [
       "<div>\n",
       "<style scoped>\n",
       "    .dataframe tbody tr th:only-of-type {\n",
       "        vertical-align: middle;\n",
       "    }\n",
       "\n",
       "    .dataframe tbody tr th {\n",
       "        vertical-align: top;\n",
       "    }\n",
       "\n",
       "    .dataframe thead th {\n",
       "        text-align: right;\n",
       "    }\n",
       "</style>\n",
       "<table border=\"1\" class=\"dataframe\">\n",
       "  <thead>\n",
       "    <tr style=\"text-align: right;\">\n",
       "      <th></th>\n",
       "      <th>TOTAL_VALUE</th>\n",
       "      <th>TAX</th>\n",
       "      <th>LOT_SQFT</th>\n",
       "      <th>YR_BUILT</th>\n",
       "      <th>GROSS_AREA</th>\n",
       "      <th>LIVING_AREA</th>\n",
       "      <th>FLOORS</th>\n",
       "      <th>ROOMS</th>\n",
       "      <th>BEDROOMS</th>\n",
       "      <th>FULL_BATH</th>\n",
       "      <th>HALF_BATH</th>\n",
       "      <th>KITCHEN</th>\n",
       "      <th>FIREPLACE</th>\n",
       "      <th>REMODEL</th>\n",
       "    </tr>\n",
       "  </thead>\n",
       "  <tbody>\n",
       "    <tr>\n",
       "      <th>4362</th>\n",
       "      <td>468.8</td>\n",
       "      <td>5897</td>\n",
       "      <td>10000</td>\n",
       "      <td>1919</td>\n",
       "      <td>3619</td>\n",
       "      <td>2288</td>\n",
       "      <td>2.0</td>\n",
       "      <td>8</td>\n",
       "      <td>4</td>\n",
       "      <td>1</td>\n",
       "      <td>1</td>\n",
       "      <td>1</td>\n",
       "      <td>1</td>\n",
       "      <td>None</td>\n",
       "    </tr>\n",
       "    <tr>\n",
       "      <th>3830</th>\n",
       "      <td>528.4</td>\n",
       "      <td>6647</td>\n",
       "      <td>17410</td>\n",
       "      <td>1920</td>\n",
       "      <td>4134</td>\n",
       "      <td>2243</td>\n",
       "      <td>2.0</td>\n",
       "      <td>12</td>\n",
       "      <td>6</td>\n",
       "      <td>3</td>\n",
       "      <td>1</td>\n",
       "      <td>1</td>\n",
       "      <td>2</td>\n",
       "      <td>None</td>\n",
       "    </tr>\n",
       "    <tr>\n",
       "      <th>4489</th>\n",
       "      <td>466.0</td>\n",
       "      <td>5862</td>\n",
       "      <td>5000</td>\n",
       "      <td>1912</td>\n",
       "      <td>3676</td>\n",
       "      <td>1945</td>\n",
       "      <td>2.0</td>\n",
       "      <td>7</td>\n",
       "      <td>3</td>\n",
       "      <td>1</td>\n",
       "      <td>1</td>\n",
       "      <td>1</td>\n",
       "      <td>1</td>\n",
       "      <td>None</td>\n",
       "    </tr>\n",
       "    <tr>\n",
       "      <th>3850</th>\n",
       "      <td>410.8</td>\n",
       "      <td>5167</td>\n",
       "      <td>5293</td>\n",
       "      <td>1900</td>\n",
       "      <td>3948</td>\n",
       "      <td>2071</td>\n",
       "      <td>2.0</td>\n",
       "      <td>13</td>\n",
       "      <td>6</td>\n",
       "      <td>1</td>\n",
       "      <td>1</td>\n",
       "      <td>1</td>\n",
       "      <td>1</td>\n",
       "      <td>None</td>\n",
       "    </tr>\n",
       "    <tr>\n",
       "      <th>5579</th>\n",
       "      <td>399.8</td>\n",
       "      <td>5029</td>\n",
       "      <td>5000</td>\n",
       "      <td>1910</td>\n",
       "      <td>2852</td>\n",
       "      <td>1776</td>\n",
       "      <td>2.0</td>\n",
       "      <td>8</td>\n",
       "      <td>3</td>\n",
       "      <td>1</td>\n",
       "      <td>1</td>\n",
       "      <td>1</td>\n",
       "      <td>0</td>\n",
       "      <td>None</td>\n",
       "    </tr>\n",
       "  </tbody>\n",
       "</table>\n",
       "</div>"
      ],
      "text/plain": [
       "      TOTAL_VALUE   TAX  LOT_SQFT  YR_BUILT  GROSS_AREA  LIVING_AREA  FLOORS  \\\n",
       "4362        468.8  5897     10000      1919        3619         2288     2.0   \n",
       "3830        528.4  6647     17410      1920        4134         2243     2.0   \n",
       "4489        466.0  5862      5000      1912        3676         1945     2.0   \n",
       "3850        410.8  5167      5293      1900        3948         2071     2.0   \n",
       "5579        399.8  5029      5000      1910        2852         1776     2.0   \n",
       "\n",
       "      ROOMS  BEDROOMS  FULL_BATH  HALF_BATH  KITCHEN  FIREPLACE REMODEL  \n",
       "4362      8         4          1          1        1          1    None  \n",
       "3830     12         6          3          1        1          2    None  \n",
       "4489      7         3          1          1        1          1    None  \n",
       "3850     13         6          1          1        1          1    None  \n",
       "5579      8         3          1          1        1          0    None  "
      ]
     },
     "execution_count": 23,
     "metadata": {},
     "output_type": "execute_result"
    }
   ],
   "source": [
    "weights = [.9 if rooms > 10 else 0.01 for rooms in housing_df.ROOMS]\n",
    "housing_df.sample(5, weights=weights)"
   ]
  },
  {
   "cell_type": "code",
   "execution_count": 24,
   "id": "5b2ec990",
   "metadata": {},
   "outputs": [
    {
     "data": {
      "text/plain": [
       "Index(['TOTAL_VALUE', 'TAX', 'LOT_SQFT', 'YR_BUILT', 'GROSS_AREA',\n",
       "       'LIVING_AREA', 'FLOORS', 'ROOMS', 'BEDROOMS', 'FULL_BATH', 'HALF_BATH',\n",
       "       'KITCHEN', 'FIREPLACE', 'REMODEL'],\n",
       "      dtype='object')"
      ]
     },
     "execution_count": 24,
     "metadata": {},
     "output_type": "execute_result"
    }
   ],
   "source": [
    "housing_df.columns"
   ]
  },
  {
   "cell_type": "markdown",
   "id": "70c75c4d",
   "metadata": {},
   "source": [
    "### Switch some columns to categorical"
   ]
  },
  {
   "cell_type": "code",
   "execution_count": 30,
   "id": "b1cb6d42",
   "metadata": {},
   "outputs": [
    {
     "data": {
      "text/plain": [
       "Index(['None', 'Old', 'Recent'], dtype='object')"
      ]
     },
     "execution_count": 30,
     "metadata": {},
     "output_type": "execute_result"
    }
   ],
   "source": [
    "housing_df.REMODEL = housing_df.REMODEL.astype('category')\n",
    "housing_df.REMODEL.cat.categories"
   ]
  },
  {
   "cell_type": "code",
   "execution_count": 31,
   "id": "701bec87",
   "metadata": {},
   "outputs": [
    {
     "data": {
      "text/plain": [
       "CategoricalDtype(categories=['None', 'Old', 'Recent'], ordered=False)"
      ]
     },
     "execution_count": 31,
     "metadata": {},
     "output_type": "execute_result"
    }
   ],
   "source": [
    "housing_df.REMODEL.dtype"
   ]
  },
  {
   "cell_type": "markdown",
   "id": "cbf96740",
   "metadata": {},
   "source": [
    "### Creating Dummy Variables"
   ]
  },
  {
   "cell_type": "code",
   "execution_count": 32,
   "id": "c1439685",
   "metadata": {},
   "outputs": [],
   "source": [
    "housing_df = pd.get_dummies(housing_df, prefix_sep='_', drop_first=True)"
   ]
  },
  {
   "cell_type": "code",
   "execution_count": 33,
   "id": "acf28453",
   "metadata": {},
   "outputs": [
    {
     "data": {
      "text/plain": [
       "Index(['TOTAL_VALUE', 'TAX', 'LOT_SQFT', 'YR_BUILT', 'GROSS_AREA',\n",
       "       'LIVING_AREA', 'FLOORS', 'ROOMS', 'BEDROOMS', 'FULL_BATH', 'HALF_BATH',\n",
       "       'KITCHEN', 'FIREPLACE', 'REMODEL_Old', 'REMODEL_Recent'],\n",
       "      dtype='object')"
      ]
     },
     "execution_count": 33,
     "metadata": {},
     "output_type": "execute_result"
    }
   ],
   "source": [
    "housing_df.columns"
   ]
  },
  {
   "cell_type": "code",
   "execution_count": 35,
   "id": "b2f122a9",
   "metadata": {},
   "outputs": [
    {
     "data": {
      "text/html": [
       "<div>\n",
       "<style scoped>\n",
       "    .dataframe tbody tr th:only-of-type {\n",
       "        vertical-align: middle;\n",
       "    }\n",
       "\n",
       "    .dataframe tbody tr th {\n",
       "        vertical-align: top;\n",
       "    }\n",
       "\n",
       "    .dataframe thead th {\n",
       "        text-align: right;\n",
       "    }\n",
       "</style>\n",
       "<table border=\"1\" class=\"dataframe\">\n",
       "  <thead>\n",
       "    <tr style=\"text-align: right;\">\n",
       "      <th></th>\n",
       "      <th>REMODEL_Old</th>\n",
       "      <th>REMODEL_Recent</th>\n",
       "    </tr>\n",
       "  </thead>\n",
       "  <tbody>\n",
       "    <tr>\n",
       "      <th>0</th>\n",
       "      <td>0</td>\n",
       "      <td>0</td>\n",
       "    </tr>\n",
       "    <tr>\n",
       "      <th>1</th>\n",
       "      <td>0</td>\n",
       "      <td>1</td>\n",
       "    </tr>\n",
       "    <tr>\n",
       "      <th>2</th>\n",
       "      <td>0</td>\n",
       "      <td>0</td>\n",
       "    </tr>\n",
       "    <tr>\n",
       "      <th>3</th>\n",
       "      <td>0</td>\n",
       "      <td>0</td>\n",
       "    </tr>\n",
       "    <tr>\n",
       "      <th>4</th>\n",
       "      <td>0</td>\n",
       "      <td>0</td>\n",
       "    </tr>\n",
       "  </tbody>\n",
       "</table>\n",
       "</div>"
      ],
      "text/plain": [
       "   REMODEL_Old  REMODEL_Recent\n",
       "0            0               0\n",
       "1            0               1\n",
       "2            0               0\n",
       "3            0               0\n",
       "4            0               0"
      ]
     },
     "execution_count": 35,
     "metadata": {},
     "output_type": "execute_result"
    }
   ],
   "source": [
    "housing_df.loc[:, 'REMODEL_Old': 'REMODEL_Recent'].head()"
   ]
  },
  {
   "cell_type": "code",
   "execution_count": null,
   "id": "e4273bc8",
   "metadata": {},
   "outputs": [],
   "source": []
  }
 ],
 "metadata": {
  "kernelspec": {
   "display_name": "Python 3",
   "language": "python",
   "name": "python3"
  },
  "language_info": {
   "codemirror_mode": {
    "name": "ipython",
    "version": 3
   },
   "file_extension": ".py",
   "mimetype": "text/x-python",
   "name": "python",
   "nbconvert_exporter": "python",
   "pygments_lexer": "ipython3",
   "version": "3.9.2"
  }
 },
 "nbformat": 4,
 "nbformat_minor": 5
}
